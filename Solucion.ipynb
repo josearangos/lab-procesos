{
 "cells": [
  {
   "cell_type": "markdown",
   "metadata": {},
   "source": [
    "# PRÁCTICA 1 - PROCESOS #\n",
    "\n",
    "#Jose Alberto Arango Sánchez\n",
    "\n",
    "#Andres Felipe Ramirez Hernandez\n",
    "\n",
    "Nota: las imagenes correspondientes a cada punto se encuentran en la carpeta codigo dentro de esta estan las soluciones a cada uno de los puntos.\n",
    "## 1. Objetivos ##\n",
    "1. Familiarizarse con las diferentes estructuras y funciones relacionadas con el manejo de procesos en linux.\n",
    "2. Codificar programas que hagan uso del API de procesos.\n",
    "\n",
    "## 2. Actividades en el laboratorio ##\n",
    "\n",
    "Realizar los siguientes ejercicios:"
   ]
  },
  {
   "cell_type": "markdown",
   "metadata": {},
   "source": [
    "1- Escriba un programa que llame un ```fork()```. Antes del llamado del ```fork()```, declare una variable de acceso (por ejemplo, ```x```) y asígnele un valor (por ejemplo, ```100```). Responda las siguientes preguntas:\n",
    "\n",
    "* ¿Cuál es el valor de la variable en el proceso hijo?\n",
    "\n",
    "Carga el valor original de la variable ya que es el primero en ser ejecutado, para este caso la variable X es igual a 100.\n",
    "\n",
    "* ¿Qué sucede con la variable cuando el proceso hijo y el padre cambian el valor de ```x```?\n",
    "\n",
    "Ambos tiene el mismo valor dado que al cargarse en memoria ambos conservan el mismo valor de la variables x, lo unico que difiere es el orden de ejecución de los procesos, padre e hijo"
   ]
  },
  {
   "cell_type": "markdown",
   "metadata": {},
   "source": [
    "2- Escriba un programa que abra un archivo (con la llamada ```open()```) y entonces llame a ```fork()```. **Nota**: El siguiente [enlace](https://www.geeksforgeeks.org/input-output-system-calls-c-create-open-close-read-write/) puede ser de utilidad para entender la llamada ```open()```.\n"
   ]
  },
  {
   "cell_type": "markdown",
   "metadata": {},
   "source": [
    "![texto alternativo](./Codigo/P_2/P_2.png)"
   ]
  },
  {
   "cell_type": "markdown",
   "metadata": {},
   "source": [
    "  * ¿Pueden el padre y el hijo acceder al file descriptor retornado por ```open()```? \n",
    "\n",
    "    Si, ambos padre he hijo pueden acceder al descriptor obtenido por el Open() la archivo, y el open por su parte verifica si el archivo esta creado, si no el mismo lo crea.\n",
    "\n",
    "  * ¿Qué pasa si ellos empiezan a escribir el archivo de manera concurrente, es decir, a la misma vez?\n",
    "\n",
    "    Teoricamente esto no pasa, ya que padre e hijo son dos procesos, los cuales existen en contextos diferentes si se ejecutan en momentos diferentes. Aunque parescan ejecutarsen al mimo tiempo, esto se  debe a la ilusion de tiempo compartido en el que  parece que los dos se esten ejecutando al mismo tiempo. En conclusión no pueden acceder al archivo de forma concurrente, si no que se turnan segun su ejecución para acceder a el."
   ]
  },
  {
   "cell_type": "markdown",
   "metadata": {},
   "source": [
    "3- Escriba un programa usando ```fork()```. El proceso hijo imprimirá ```\"Hello\"```; el proceso padre imprimirá ```\"goodbye\"```. Usted deberá asegurar que el proceso hijo imprima en primer lugar; ¿usted podría hacer esto sin llamar ```wait()``` en el padre? \n",
    "\n",
    "Es posible, si empleamos el método sleep, que para este caso fue de 1 segundo"
   ]
  },
  {
   "cell_type": "markdown",
   "metadata": {},
   "source": [
    "4- Escriba un programa que llame ```fork()``` y entonces llame alguna forma de ```exec()``` para correr el programa ```/bin/ls```. Intente probar todas las variaciones de la familia de funciones ```exec()``` incluyendo (en linux) ```execl()```, ```execle()```, ```execlp()```, ```execv()```, ```execvp()``` y ```execvpe()```. "
   ]
  },
  {
   "cell_type": "markdown",
   "metadata": {},
   "source": [
    "![texto alternativo](./Codigo/P_4/P_4.png)"
   ]
  },
  {
   "cell_type": "markdown",
   "metadata": {},
   "source": [
    "¿Por qué piensa usted que existen tantas variaciones para la misma llamada básica?\n",
    "\n",
    "Por que cada una permite omitir o especificar los parametros de forma distinta como lo son: el nombre del fichero a ser ejecutado, puntero al vector de argumentos y puntero al vector de ambiente.\n",
    "\n",
    "* int execl(char const *path, char const *arg0, ...);\n",
    "* int execle(char const *path, char const *arg0, ..., char const *envp[]);\n",
    "* int execlp(char const *file, char const *arg0, ...);\n",
    "* int execv(char const *path, char const *argv[]);\n",
    "* int execve(char const *path, char const *argv[], char const *envp[]);\n",
    "* int execvp(char const *file, char const *argv[]);\n",
    "\n",
    "l - Los argumentos de la línea de comandos se pasan individualmente (una lista) a la función.\n",
    "v - Los argumentos de la línea de comandos se pasan a la función como una matriz (vector) de punteros.\n",
    "e - Se pasa explícitamente una matriz de punteros a variables de entorno a la nueva imagen de proceso.\n",
    "p: utiliza la variable de entorno PATH para buscar el archivo nombrado en el argumento de ruta a ejecutar."
   ]
  },
  {
   "cell_type": "markdown",
   "metadata": {},
   "source": [
    "5- Escriba ahora un programa que use ```wait()``` para esperar que el proceso hijo finalice su ejecución. ¿Cuál es el valor de retorno de la función ```wait()```?, ¿Qué pasa si usted usa la función ```wait``` en el hijo?\n",
    "\n",
    "El valor del retorno de la función wait() es el PID del proceso hijo y si se usa la función wait en el hijo esta retorna -1 que es un error ya que no tiene sentido la utilización de este.\n"
   ]
  },
  {
   "cell_type": "markdown",
   "metadata": {},
   "source": [
    "6- Haga un programa, como el del ejercicio anterior, con una breve modificación, la cual consiste en usar ```waitpid()``` en lugar de ```wait()```."
   ]
  },
  {
   "cell_type": "markdown",
   "metadata": {},
   "source": [
    "![texto alternativo](./Codigo/P_6/P_6.png)"
   ]
  },
  {
   "cell_type": "markdown",
   "metadata": {},
   "source": [
    "¿Cuándo podría ser ```waitpid()``` útil?\n",
    "\n",
    " El proceso waitpid() permite verificar el estado de los procesos hijos y a diferencia del proceso wait este puede verificar el estado del proceso y tomar una desición a partir de este, la descripcion literal de este proceso es similar a la del wait:\n",
    " \n",
    "La  función  waitpid  suspende  la  ejecución  del  proceso  en  curso  hasta  que un hijo especificado por el argumento pid ha terminado, o hasta que  se  produce  una  señal  cuya acción es finalizar el proceso actual o llamar a la función manejadora de la señal.\n",
    "Lo unico diferente, es que este puede tomar decisiones sin tener que esperar la finalización del proceso hijo."
   ]
  },
  {
   "cell_type": "markdown",
   "metadata": {},
   "source": [
    "7- Escriba un programa que cree un proceso hijo y entonces en el proceso hijo cierre la salida estandar (```STDOUT FILENO```). ¿Qué pasa si el hijo llama ```printf()``` para imprimir alguna salida después de cerrar el descriptor?\n",
    "\n",
    "Si el proceso hijo llama la función printf() luego de cerrar el descriptor, este no imprime nada. ya que la función close no permite que se ejecute la función printf.\n",
    "\n",
    "La solución a este enunciado se puede encontrar en el fichero Codigo."
   ]
  },
  {
   "cell_type": "markdown",
   "metadata": {},
   "source": [
    "8- Escriba un programa que cree dos hijos y conecte la salida estándar de un hijo a la entrada estándar del otro usando la llamada a sistema ```pipe()```"
   ]
  },
  {
   "cell_type": "markdown",
   "metadata": {},
   "source": [
    "La solución a este enunciado se puede encontrar en el fichero Codigo."
   ]
  },
  {
   "cell_type": "code",
   "execution_count": null,
   "metadata": {},
   "outputs": [],
   "source": []
  }
 ],
 "metadata": {
  "kernelspec": {
   "display_name": "Python 3",
   "language": "python",
   "name": "python3"
  },
  "language_info": {
   "codemirror_mode": {
    "name": "ipython",
    "version": 3
   },
   "file_extension": ".py",
   "mimetype": "text/x-python",
   "name": "python",
   "nbconvert_exporter": "python",
   "pygments_lexer": "ipython3",
   "version": "3.7.6"
  }
 },
 "nbformat": 4,
 "nbformat_minor": 4
}
